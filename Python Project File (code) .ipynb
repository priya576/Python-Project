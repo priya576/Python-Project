{
 "cells": [
  {
   "cell_type": "code",
   "execution_count": 1,
   "id": "90c92da0",
   "metadata": {},
   "outputs": [],
   "source": [
    "import numpy as np\n",
    "import pandas as pd\n",
    "import matplotlib.pyplot as plt\n",
    "import seaborn as sns"
   ]
  },
  {
   "cell_type": "markdown",
   "id": "0596c4ef",
   "metadata": {},
   "source": [
    "# Student "
   ]
  },
  {
   "cell_type": "code",
   "execution_count": 2,
   "id": "21a8675a",
   "metadata": {},
   "outputs": [],
   "source": [
    "#creating students details\n",
    "d={\"student ID\":[\"CSE2200\",\"CSE2201\",\"CSE2202\",\"ECE2200\",\"ECE2201\",\"ECE2202\",\"ECE2203\"],\"Name\":[\"Rohan Das\",\"Souma Dutta\",\"Subhadeep Sarkar\",\"Avi Pal\",\"Sourav Kumar\",\"Biplab Jana\",\"Sourik Dey\"],\"Class Roll Number\":[\"01\",\"02\",\"03\",\"01\",\"02\",\"03\",\"04\"],\"Batch ID\":[\"CSE22\",\"CSE22\",\"CSE22\",\"ECE22\",\"ECE22\",\"ECE22\",\"ECE22\"]}\n",
    "data=pd.DataFrame(d)"
   ]
  },
  {
   "cell_type": "code",
   "execution_count": 3,
   "id": "402c4b22",
   "metadata": {
    "scrolled": true
   },
   "outputs": [],
   "source": [
    "#removing a student\n",
    "Data=data.drop(6) \n",
    "Data.to_csv(\"students information.csv\")\n",
    "Data12=pd.read_csv(\"students information.csv\") "
   ]
  },
  {
   "cell_type": "code",
   "execution_count": 4,
   "id": "471a4030",
   "metadata": {},
   "outputs": [],
   "source": [
    "#students marks\n",
    "g={\"subject\":[\"Physics\",\"Chemistry\",\"Python Programming\",\"Maths\"],\"Rohan Das\":[\"92\",\"79\",\"83\",\"98\"],\"Souma Dutta\":[\"35\",\"52\",\"72\",\"18\"],\"Subhadeep Sarkar\":[\"84\",\"86\",\"43\",\"64\"],\"Avi Pal\":[\"99\",\"87\",\"22\",\"34\"],\"Sourav Kumar\":[\"67\",\"62\",\"59\",\"72\"],\"Biplab Jana\":[\"88\",\"79\",\"84\",\"96\"]}\n",
    "students_marks=pd.DataFrame(g)"
   ]
  },
  {
   "cell_type": "code",
   "execution_count": 5,
   "id": "79ba7eeb",
   "metadata": {},
   "outputs": [],
   "source": [
    "#Gradecard\n",
    "data_new=students_marks.drop([\"subject\"],axis=1)\n",
    "l3=np.array(data_new,dtype=float) \n",
    "l5=l3.ravel()\n",
    "l5=(l5.astype('int64')).tolist() \n",
    "l6=[]\n",
    "for i in range(0,len(l5)):\n",
    "   if (l5[i]>=90):\n",
    "        l6.append(\"A\")\n",
    "   elif (l5[i]>=80): \n",
    "        l6.append(\"B\") \n",
    "   elif (l5[i]>=70):\n",
    "        l6.append(\"C\") \n",
    "   elif (l5[i]>=60):\n",
    "        l6.append(\"D\") \n",
    "   elif (l5[i]>=40):\n",
    "        l6.append(\"E\") \n",
    "   else:\n",
    "        l6.append(\"F\") \n",
    "        \n",
    "Grades=pd.Series(l6,index=[\"Rohan Das(Physics)\",\"Rohan Das(Chemistry)\",\"Rohan Das(Python Programming)\",\"Rohan Das(Maths)\",\"Souma Dutta(Physics)\",\"Souma Dutta(Chemistry)\",\"Souma Dutta(Python Programming)\",\"Souma Dutta(Maths)\", \n",
    "                        \"Subhadeep Sarkar(Physics)\",\"Subhadeep Sarkar(Chemistry)\",\"Subhadeep Sarkar(Python Programming)\",\"Subhadeep Sarkar(Maths)\",\"Avi Pal(Physics)\",\"Avi Pal(Chemistry)\",\"Avi Pal(Python Programming)\",\"Avi Pal(Maths)\",\n",
    "                        \"Sourav Kumar(Physics)\",\"Sourav Kumar(Chemistry)\",\"Sourav Kumar(Python Programming)\",\"Sourav Kumar(Maths)\",\"Biplab Jana(Physics)\",\"Biplab Jana(Chemistry)\",\"Biplab Jana(Python Programming)\",\"Biplab Jana(Maths)\"]) "
   ]
  },
  {
   "cell_type": "code",
   "execution_count": 6,
   "id": "5902a84f",
   "metadata": {},
   "outputs": [],
   "source": [
    "#percentage marks\n",
    "l4=(l3.sum(axis=0))/4\n",
    "percentage=pd.Series(l4,index=data_new.columns.values.tolist()) \n",
    "Gradecard=(str(Grades)+str(percentage)) \n",
    " "
   ]
  },
  {
   "cell_type": "markdown",
   "id": "d72b16ab",
   "metadata": {},
   "source": [
    "# Course"
   ]
  },
  {
   "cell_type": "code",
   "execution_count": 7,
   "id": "f0e38f6b",
   "metadata": {},
   "outputs": [],
   "source": [
    "#courses \n",
    "t={\"Course ID\":[\"C001\",\"C002\",\"C003\",\"C004\"],\"Course Name\":[\"Physics\",\"Chemistry\",\"Python Programming\",\"Maths\"],\"Marks Obtained\":[\"CSE2200:92-CSE2201:35-CSE2202:84-ECE2200:99-ECE2201:67-ECE2202:88\",\"CSE2200:79-CSE2201:52-CSE2202:86-ECE2200:87-ECE2201:62-ECE2202:79\",\"CSE2200:83-CSE2201:72-CSE2202:43-ECE2200:22-ECE2201:59-ECE2202:84\",\"CSE2200:98-CSE2201:18-CSE2202:64-ECE2200:34-ECE2201:72-ECE2202:96\"]}\n",
    "courses=pd.DataFrame(t)\n",
    "courses.to_csv(\"course.csv\")  \n",
    "courses12=pd.read_csv(\"course.csv\") "
   ]
  },
  {
   "cell_type": "code",
   "execution_count": 8,
   "id": "cb33bae1",
   "metadata": {},
   "outputs": [],
   "source": [
    "#performance of students in specific courses\n",
    "data_new=students_marks.drop([\"subject\"],axis=1) \n",
    "new_col=[\"C001\",\"C002\",\"C003\",\"C004\"]\n",
    "performance=data_new.copy() \n",
    "performance.insert(loc=0,column=\"Courses\",value=new_col)\n",
    "performance.loc[4]=[\"Roll Number\", 1,2,3,1,2,3]"
   ]
  },
  {
   "cell_type": "code",
   "execution_count": 9,
   "id": "615437f7",
   "metadata": {},
   "outputs": [],
   "source": [
    "#histogram on grades vs students\n",
    "%matplotlib inline\n",
    "x=[\"A\",\"B\",\"C\",\"D\",\"E\",\"F\"]\n",
    "y=[l6.count(\"A\"),l6.count(\"B\"),l6.count(\"C\"),l6.count(\"D\"),l6.count(\"E\"),l6.count(\"F\")]"
   ]
  },
  {
   "cell_type": "markdown",
   "id": "68a3d440",
   "metadata": {},
   "source": [
    "# Batch"
   ]
  },
  {
   "cell_type": "code",
   "execution_count": 10,
   "id": "e034d168",
   "metadata": {},
   "outputs": [],
   "source": [
    "#creating batch details\n",
    "h={\"Batch ID\":[\"CSE22\",\"ECE22\"],\"Batch Name\":[\"CSE2022-26\",\"ECE2022-26\"],\"Department Name\":[\"CSE\",\"ECE\"],\"List of Courses\":[\"C001:C002:C003:C004\",\"C001:C002:C003:C004\"],\"List of Students\":[\"CSE2200:CSE2201:CSE2202\",\"ECE2200,ECE2201,ECE2202\"]}\n",
    "Batches=pd.DataFrame(h)\n",
    "Batches.to_csv(\"Batches.csv\")\n",
    "Batches12=pd.read_csv(\"Batches.csv\") \n"
   ]
  },
  {
   "cell_type": "code",
   "execution_count": 11,
   "id": "02cbc084",
   "metadata": {},
   "outputs": [],
   "source": [
    "#percentage of all students in a batch\n",
    "c={\"Name\":data_new.columns.values.tolist(),\"Class Roll Number\":[1,2,3,1,2,3],\"Percentage Obtained\":[percentage[0],percentage[1],percentage[2],percentage[3],percentage[4],percentage[5]],\"Batch ID\":[\"CSE22\",\"CSE22\",\"CSE22\",\"ECE22\",\"ECE22\",\"ECE22\"]}\n",
    "Batch_performance=pd.DataFrame(c) \n"
   ]
  },
  {
   "cell_type": "code",
   "execution_count": 12,
   "id": "5895b6f9",
   "metadata": {},
   "outputs": [],
   "source": [
    "#pie chart of performance\n",
    "a=Batch_performance[\"Percentage Obtained\"]\n",
    "z=Batch_performance[\"Name\"]\n"
   ]
  },
  {
   "cell_type": "markdown",
   "id": "cea95ab3",
   "metadata": {},
   "source": [
    "# Department"
   ]
  },
  {
   "cell_type": "code",
   "execution_count": 13,
   "id": "f0f84660",
   "metadata": {},
   "outputs": [],
   "source": [
    "#department stats\n",
    "o={\"Department ID\":[\"CSE\",\"ECE\"],\"Department Name\":[\"Computer Science and Engineering\",\"Electronics and Communication Engineering\"],\"List of Batches\":[\"CSE22\",\"ECE22\"]}\n",
    "Department=pd.DataFrame(o)\n",
    "Department.to_csv(\"Department.csv\") \n",
    "Department12=pd.read_csv(\"Department.csv\")\n"
   ]
  },
  {
   "cell_type": "code",
   "execution_count": 14,
   "id": "bda81c56",
   "metadata": {},
   "outputs": [],
   "source": [
    "#Average performance in batches\n",
    "CSE_batch=(Batch_performance.iloc[0,2]+Batch_performance.iloc[1,2]+Batch_performance.iloc[2,2])/3\n",
    "ECE_batch=(Batch_performance.iloc[3,2]+Batch_performance.iloc[4,2]+Batch_performance.iloc[5,2])/3\n",
    "m=[CSE_batch,ECE_batch]\n",
    "n=[\"CSE2022-26\",\"ECE2022-26\"]\n"
   ]
  },
  {
   "cell_type": "markdown",
   "id": "d48cbaa8",
   "metadata": {},
   "source": [
    "# Examination"
   ]
  },
  {
   "cell_type": "code",
   "execution_count": 15,
   "id": "9a11367c",
   "metadata": {
    "scrolled": true
   },
   "outputs": [],
   "source": [
    "#marks of all students in specific examination\n",
    " #print(performance) \n",
    "#performance in examination \n",
    " #print(Batch_performance) "
   ]
  },
  {
   "cell_type": "code",
   "execution_count": 16,
   "id": "3f24a6bc",
   "metadata": {
    "scrolled": false
   },
   "outputs": [],
   "source": [
    "#scatter plot of performance\n",
    "CSE_physics=(int(data_new.iloc[0,0])+int(data_new.iloc[0,1])+int(data_new.iloc[0,2])) \n",
    "ECE_physics=(int(data_new.iloc[0,3])+int(data_new.iloc[0,4])+int(data_new.iloc[0,5]))\n",
    "CSE_chemistry=(int(data_new.iloc[1,0])+int(data_new.iloc[1,1])+int(data_new.iloc[1,2]))\n",
    "ECE_chemistry=(int(data_new.iloc[1,3])+int(data_new.iloc[1,4])+int(data_new.iloc[1,5]))\n",
    "CSE_python=(int(data_new.iloc[2,0])+int(data_new.iloc[2,1])+int(data_new.iloc[2,2]))\n",
    "ECE_python=(int(data_new.iloc[2,3])+int(data_new.iloc[2,4])+int(data_new.iloc[2,5]))\n",
    "CSE_maths=(int(data_new.iloc[3,0])+int(data_new.iloc[3,1])+int(data_new.iloc[3,2]))\n",
    "ECE_maths=(int(data_new.iloc[3,3])+int(data_new.iloc[3,4])+int(data_new.iloc[3,5]))\n",
    "x1=[CSE_physics,CSE_chemistry,CSE_python,CSE_maths,ECE_physics,ECE_chemistry,ECE_python,ECE_maths]\n",
    "y1=[\"CSE2022-26:Physics\",\"CSE2022-26:Chemistry\",\"CSE2022-26:Python\",\"CSE2022-26:Maths\",\"ECE2022-26:Physics\",\"ECE2022-26:Chemistry\",\"ECE2022-26:Python\",\"ECE2022-26:Maths\"]\n"
   ]
  },
  {
   "cell_type": "code",
   "execution_count": 17,
   "id": "dce31d3e",
   "metadata": {},
   "outputs": [
    {
     "name": "stdout",
     "output_type": "stream",
     "text": [
      "Welcome\n",
      "Please choose what do you want\n",
      "Choose Module: 1.Students details     2.Courses      3.Batches      4.Department      5.Examination\n",
      "Enter Module number you want to search:1\n"
     ]
    }
   ],
   "source": [
    "print(\"Welcome\")\n",
    "print(\"Please choose what do you want\")\n",
    "print(\"Choose Module: 1.Students details     2.Courses      3.Batches      4.Department      5.Examination\") \n",
    "enter=int(input(\"Enter Module number you want to search:\")) "
   ]
  },
  {
   "cell_type": "code",
   "execution_count": 24,
   "id": "0541f8fa",
   "metadata": {},
   "outputs": [
    {
     "name": "stdout",
     "output_type": "stream",
     "text": [
      "Choose the following options:  11.Students Details       12.Remove a Student     13.See Gradecard\n",
      "Enter your choice:13\n"
     ]
    }
   ],
   "source": [
    "enter1=100\n",
    "enter2=100\n",
    "enter3=100\n",
    "enter4=100\n",
    "enter5=100\n",
    "if (enter==1):\n",
    "    print(\"Choose the following options:  11.Students Details       12.Remove a Student     13.See Gradecard\") \n",
    "    enter1=int(input(\"Enter your choice:\")) \n",
    "elif (enter==2):\n",
    "    print(\"Choose the following options:  21.Corses Details      22.Students Performance in specific Courses      23.Histogram on Grades vs No pf Students\") \n",
    "    enter2=int(input (\"Enter your choice:\")) \n",
    "elif (enter==3):\n",
    "    print(\"Choose the following options:  31.Batch Details      32.Batch Performance        33.Piechart of performance \") \n",
    "    enter3=int(input(\" Enter your choice:\")) \n",
    "elif (enter==4):\n",
    "    print(\"Choose the following options:  41.Department Stats     42.Average percentage of students in each batch\") \n",
    "    enter4=int(input (\"Enter your choice:\"))\n",
    "elif (enter==5):\n",
    "    print (\"Choose the following options:  51.Students marks at each examination       52.Scatterplot of Marks vs Batches      53.Percentage of students\") \n",
    "    enter5=int(input (\"Enter your choice:\"))\n",
    "else:\n",
    "    print (\" Enter a valid number\") \n",
    "    \n"
   ]
  },
  {
   "cell_type": "code",
   "execution_count": 27,
   "id": "5a3ce4d9",
   "metadata": {},
   "outputs": [
    {
     "name": "stdout",
     "output_type": "stream",
     "text": [
      "Rohan Das(Physics)                      A\n",
      "Rohan Das(Chemistry)                    F\n",
      "Rohan Das(Python Programming)           B\n",
      "Rohan Das(Maths)                        A\n",
      "Souma Dutta(Physics)                    D\n",
      "Souma Dutta(Chemistry)                  B\n",
      "Souma Dutta(Python Programming)         C\n",
      "Souma Dutta(Maths)                      E\n",
      "Subhadeep Sarkar(Physics)               B\n",
      "Subhadeep Sarkar(Chemistry)             B\n",
      "Subhadeep Sarkar(Python Programming)    D\n",
      "Subhadeep Sarkar(Maths)                 C\n",
      "Avi Pal(Physics)                        B\n",
      "Avi Pal(Chemistry)                      C\n",
      "Avi Pal(Python Programming)             E\n",
      "Avi Pal(Maths)                          F\n",
      "Sourav Kumar(Physics)                   E\n",
      "Sourav Kumar(Chemistry)                 B\n",
      "Sourav Kumar(Python Programming)        A\n",
      "Sourav Kumar(Maths)                     F\n",
      "Biplab Jana(Physics)                    D\n",
      "Biplab Jana(Chemistry)                  F\n",
      "Biplab Jana(Python Programming)         C\n",
      "Biplab Jana(Maths)                      A\n",
      "dtype: objectRohan Das           88.00\n",
      "Souma Dutta         44.25\n",
      "Subhadeep Sarkar    69.25\n",
      "Avi Pal             60.50\n",
      "Sourav Kumar        65.00\n",
      "Biplab Jana         86.75\n",
      "dtype: float64\n",
      "Do you want to create a text file of Gradecard: Give Answer (yes-50/No-anyother number)\n",
      "Enter your choice:67\n",
      "No text file generated\n"
     ]
    }
   ],
   "source": [
    "#students details user input\n",
    "if (enter1==11):\n",
    "    print(Data12)\n",
    "elif (enter1==13):\n",
    "    print(Gradecard) \n",
    "    print(\"Do you want to create a text file of Gradecard: Give Answer (yes-50/No-anyother number)\") \n",
    "    ent=int(input(\"Enter your choice:\")) \n",
    "    if (ent==50):\n",
    "        file=open(\"grades.txt\",\"a\")\n",
    "        file.write(Gradecard) \n",
    "        file.close()\n",
    "        print(\"Text file created successfully \") \n",
    "    else:\n",
    "        print(\"No text file generated\") \n",
    "elif (enter1==12):\n",
    "    print(\"To delete press 199 , press anyother number to avoid deletion \") \n",
    "    print(data) \n",
    "    en=int(input(\"Enter number:\")) \n",
    "    if (en==199):\n",
    "        print(\" Successfully deleted a student record \") \n",
    "        print(Data12) \n",
    "    else:\n",
    "        print(\" No Deletion \") \n",
    "else:\n",
    "    pass\n",
    " "
   ]
  },
  {
   "cell_type": "code",
   "execution_count": 20,
   "id": "79f4a76a",
   "metadata": {},
   "outputs": [],
   "source": [
    "#courses\n",
    "if (enter2==21):\n",
    "    print(courses12) \n",
    "elif (enter2==22):\n",
    "    print(performance) \n",
    "elif (enter2==23):\n",
    "    plt.bar(x,y,color=[\"r\",\"b\",\"y\",\"c\",\"g\",\"m\"]) \n",
    "    plt.xlabel(\"Grades\") \n",
    "    plt.ylabel(\"No of Students\") \n",
    "    plt.title(\"Grades vs No of Students\") \n",
    "    plt.show()     \n",
    "else:\n",
    "    pass\n"
   ]
  },
  {
   "cell_type": "code",
   "execution_count": 21,
   "id": "b47a3897",
   "metadata": {},
   "outputs": [],
   "source": [
    "#batches\n",
    "if (enter3==31):\n",
    "    print(Batches12) \n",
    "elif (enter3==32):\n",
    "    print(Batch_performance) \n",
    "elif (enter3==33):\n",
    "    plt.pie(a,labels=z)\n",
    "    plt.title(\"Pie chart of Performance\")\n",
    "    plt.show()\n",
    "else:\n",
    "    pass\n",
    "    "
   ]
  },
  {
   "cell_type": "code",
   "execution_count": 22,
   "id": "f5f81271",
   "metadata": {},
   "outputs": [],
   "source": [
    "#department\n",
    "if (enter4==41):\n",
    "    print(Department12) \n",
    "elif (enter4==42):\n",
    "    plt.plot(n,m,color=\"r\",marker=\"*\",markeredgecolor=\"b\") \n",
    "    plt.xlabel(\"Batch Name\")\n",
    "    plt.ylabel(\"Average Percentage\")\n",
    "    plt.title(\"Average Percentage of Students for each Batch\")\n",
    "    plt.show() \n",
    "else:\n",
    "    pass\n"
   ]
  },
  {
   "cell_type": "code",
   "execution_count": 23,
   "id": "89b0962c",
   "metadata": {},
   "outputs": [],
   "source": [
    "#examination\n",
    "if (enter5==51):\n",
    "    print(students_marks) \n",
    "elif (enter5==52):\n",
    "    plt.scatter(x1,y1,color=[\"r\",\"b\",\"y\",\"g\",\"r\",\"b\",\"y\",\"g\"],marker='o') \n",
    "    plt.xlabel(\"Marks\")\n",
    "    plt.ylabel(\"Batch\")\n",
    "    plt.title(\"Marks vs Batch\") \n",
    "    plt.show()\n",
    "elif (enter5==53):\n",
    "    print(percentage) \n",
    "else:\n",
    "    pass\n"
   ]
  }
 ],
 "metadata": {
  "kernelspec": {
   "display_name": "Python 3 (ipykernel)",
   "language": "python",
   "name": "python3"
  },
  "language_info": {
   "codemirror_mode": {
    "name": "ipython",
    "version": 3
   },
   "file_extension": ".py",
   "mimetype": "text/x-python",
   "name": "python",
   "nbconvert_exporter": "python",
   "pygments_lexer": "ipython3",
   "version": "3.9.7"
  }
 },
 "nbformat": 4,
 "nbformat_minor": 5
}
